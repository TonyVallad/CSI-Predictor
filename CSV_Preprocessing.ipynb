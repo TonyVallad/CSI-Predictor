{
 "cells": [
  {
   "cell_type": "markdown",
   "metadata": {},
   "source": [
    "**<h1 align=\"center\">CSV Preprocessing</h1>**"
   ]
  },
  {
   "cell_type": "markdown",
   "metadata": {},
   "source": [
    "## Global Variables"
   ]
  },
  {
   "cell_type": "markdown",
   "metadata": {},
   "source": [
    "### Project Specific Variables"
   ]
  },
  {
   "cell_type": "code",
   "execution_count": null,
   "metadata": {},
   "outputs": [],
   "source": [
    "# CSV Files\n",
    "CSV_FOLDER = \"../../data/\"\n",
    "CSV_FOLDER = \"/home/pyuser/data/\"\n",
    "CSV_LABELS_FILE = \"paradise_csi.csv\"\n",
    "CSV_PATIENTS_FILE = \"PatientIds.csv\"\n",
    "CSV_TO_EXPLORE_1 = \"paradise_csi_drop_non_nan_w_classes.csv\"\n",
    "CSV_TO_EXPLORE_2 = \"paradise_csi_w_classes_w_non_nan.csv\"\n",
    "CSV_SEPARATOR = \",\"  # Specify the CSV separator, e.g., ',' or '\\t'\n",
    "IMPORT_COLUMNS = []  # If empty, import all columns\n",
    "CHUNK_SIZE = 50000  # Number of rows per chunk"
   ]
  },
  {
   "cell_type": "markdown",
   "metadata": {},
   "source": [
    "### Colors"
   ]
  },
  {
   "cell_type": "code",
   "execution_count": null,
   "metadata": {},
   "outputs": [],
   "source": [
    "# ANSI escape codes for colored output\n",
    "ANSI = {\n",
    "    'R' : '\\033[91m',  # Red\n",
    "    'G' : '\\033[92m',  # Green\n",
    "    'B' : '\\033[94m',  # Blue\n",
    "    'Y' : '\\033[93m',  # Yellow\n",
    "    'W' : '\\033[0m',  # White\n",
    "}"
   ]
  },
  {
   "cell_type": "markdown",
   "metadata": {},
   "source": [
    "## Import CSV to Dataframe"
   ]
  },
  {
   "cell_type": "markdown",
   "metadata": {},
   "source": [
    "### CSV Import"
   ]
  },
  {
   "cell_type": "code",
   "execution_count": null,
   "metadata": {},
   "outputs": [],
   "source": [
    "import pandas as pd\n",
    "\n",
    "# Import CSV files into dataframes\n",
    "try:\n",
    "    # Import labels data\n",
    "    df_labels = pd.read_csv(\n",
    "        CSV_FOLDER + CSV_LABELS_FILE,\n",
    "        sep=CSV_SEPARATOR,\n",
    "        usecols=IMPORT_COLUMNS if IMPORT_COLUMNS else None,\n",
    "        chunksize=CHUNK_SIZE\n",
    "    )\n",
    "    df_labels = pd.concat(df_labels, ignore_index=True)\n",
    "    print(f\"{ANSI['G']}Successfully imported {CSV_LABELS_FILE}{ANSI['W']}\")\n",
    "    \n",
    "    # Import patient data  \n",
    "    df_patients = pd.read_csv(\n",
    "        CSV_FOLDER + CSV_PATIENTS_FILE,\n",
    "        sep=CSV_SEPARATOR,\n",
    "        usecols=IMPORT_COLUMNS if IMPORT_COLUMNS else None,\n",
    "        chunksize=CHUNK_SIZE\n",
    "    )\n",
    "    df_patients = pd.concat(df_patients, ignore_index=True)\n",
    "    print(f\"{ANSI['G']}Successfully imported {CSV_PATIENTS_FILE}{ANSI['W']}\")\n",
    "    \n",
    "    # Import CSV to explore 1\n",
    "    df_to_explore_1 = pd.read_csv(\n",
    "        CSV_FOLDER + CSV_TO_EXPLORE_1,\n",
    "        sep=CSV_SEPARATOR,\n",
    "        usecols=IMPORT_COLUMNS if IMPORT_COLUMNS else None,\n",
    "        chunksize=CHUNK_SIZE\n",
    "    )\n",
    "    df_to_explore_1 = pd.concat(df_to_explore_1, ignore_index=True)\n",
    "    print(f\"{ANSI['G']}Successfully imported {CSV_TO_EXPLORE_1}{ANSI['W']}\")\n",
    "    \n",
    "    # Import CSV to explore 2\n",
    "    df_to_explore_2 = pd.read_csv(\n",
    "        CSV_FOLDER + CSV_TO_EXPLORE_2,\n",
    "        sep=CSV_SEPARATOR,\n",
    "        usecols=IMPORT_COLUMNS if IMPORT_COLUMNS else None,\n",
    "        chunksize=CHUNK_SIZE\n",
    "    )\n",
    "    df_to_explore_2 = pd.concat(df_to_explore_2, ignore_index=True)\n",
    "    print(f\"{ANSI['G']}Successfully imported {CSV_TO_EXPLORE_2}{ANSI['W']}\")\n",
    "\n",
    "except Exception as e:\n",
    "    print(f\"{ANSI['R']}Error importing CSV files: {str(e)}{ANSI['W']}\")\n"
   ]
  }
 ],
 "metadata": {
  "kernelspec": {
   "display_name": "Python 3",
   "language": "python",
   "name": "python3"
  },
  "language_info": {
   "name": "python",
   "version": "3.12.10"
  }
 },
 "nbformat": 4,
 "nbformat_minor": 2
}
