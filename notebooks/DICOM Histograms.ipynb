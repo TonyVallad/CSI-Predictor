{
 "cells": [
  {
   "cell_type": "markdown",
   "metadata": {},
   "source": [
    "# DICOM Histograms"
   ]
  },
  {
   "cell_type": "markdown",
   "metadata": {},
   "source": [
    "## Global variables & Immports"
   ]
  },
  {
   "cell_type": "code",
   "execution_count": null,
   "metadata": {},
   "outputs": [],
   "source": [
    "# Path to DICOM directory\n",
    "DICOM_PATH = \"/home/pyuser/data/Paradise_DICOMs\"\n",
    "\n",
    "# Path to Histogram directory\n",
    "HISTOGRAM_PATH = \"/home/pyuser/data/Paradise_Histograms\"\n",
    "\n",
    "import os\n",
    "import pydicom\n",
    "import matplotlib.pyplot as plt\n",
    "import numpy as np\n",
    "from pathlib import Path\n",
    "import warnings\n",
    "\n",
    "# Suppress the specific pydicom character encoding warning\n",
    "warnings.filterwarnings(\"ignore\", category=UserWarning, module=\"pydicom.charset\")"
   ]
  },
  {
   "cell_type": "markdown",
   "metadata": {},
   "source": [
    "## Graphs creation"
   ]
  },
  {
   "cell_type": "markdown",
   "metadata": {},
   "source": [
    "### Per DICOM file"
   ]
  },
  {
   "cell_type": "code",
   "execution_count": null,
   "metadata": {},
   "outputs": [],
   "source": [
    "from tqdm import tqdm\n",
    "\n",
    "def create_dicom_histograms():\n",
    "    \"\"\"\n",
    "    Create histograms for all DICOM files in the DICOM_PATH directory\n",
    "    and save them to the HISTOGRAM_PATH directory.\n",
    "    \"\"\"\n",
    "    # Create histogram directory if it doesn't exist\n",
    "    Path(HISTOGRAM_PATH).mkdir(parents=True, exist_ok=True)\n",
    "    \n",
    "    # Get all DICOM files\n",
    "    dicom_files = []\n",
    "    for root, dirs, files in os.walk(DICOM_PATH):\n",
    "        for file in files:\n",
    "            if file.lower().endswith(('.dcm', '.dicom')):\n",
    "                dicom_files.append(os.path.join(root, file))\n",
    "    \n",
    "    print(f\"Found {len(dicom_files)} DICOM files\")\n",
    "    \n",
    "    for dicom_file in tqdm(dicom_files, desc=\"Creating histograms\"):\n",
    "        try:\n",
    "            # Read DICOM file\n",
    "            ds = pydicom.dcmread(dicom_file)\n",
    "            \n",
    "            # Get pixel data\n",
    "            pixel_array = ds.pixel_array\n",
    "            \n",
    "            # Get pixel value statistics\n",
    "            min_pixel = np.min(pixel_array)\n",
    "            max_pixel = np.max(pixel_array)\n",
    "            \n",
    "            # Get bits allocated from DICOM header\n",
    "            bits_allocated = getattr(ds, 'BitsAllocated', None)\n",
    "            if bits_allocated is None:\n",
    "                # Fallback: estimate from pixel data type\n",
    "                if pixel_array.dtype == np.uint8:\n",
    "                    bits_allocated = 8\n",
    "                elif pixel_array.dtype == np.uint16:\n",
    "                    bits_allocated = 16\n",
    "                else:\n",
    "                    bits_allocated = 16  # Default fallback\n",
    "            \n",
    "            # Get photometric interpretation (MONOCHROME1 or MONOCHROME2)\n",
    "            photometric = getattr(ds, 'PhotometricInterpretation', 'Unknown')\n",
    "            if 'MONOCHROME' in photometric:\n",
    "                if '1' in photometric:\n",
    "                    monochrome_type = 'MONOCHROME1'\n",
    "                elif '2' in photometric:\n",
    "                    monochrome_type = 'MONOCHROME2'\n",
    "                else:\n",
    "                    monochrome_type = photometric\n",
    "            else:\n",
    "                monochrome_type = photometric\n",
    "            \n",
    "            # Calculate actual bits used (based on maximum pixel value)\n",
    "            if max_pixel > 0:\n",
    "                bits_used = int(np.ceil(np.log2(max_pixel + 1)))\n",
    "            else:\n",
    "                bits_used = 1\n",
    "            \n",
    "            # Determine color and bins based on bits allocated\n",
    "            if bits_allocated <= 8:\n",
    "                color = 'blue'\n",
    "                bins = min(256, max_pixel - min_pixel + 1)\n",
    "            elif bits_allocated <= 12:\n",
    "                color = 'green'\n",
    "                bins = min(4096, max_pixel - min_pixel + 1)\n",
    "            elif bits_allocated <= 14:\n",
    "                color = 'red'\n",
    "                bins = min(16384, max_pixel - min_pixel + 1)\n",
    "            else:\n",
    "                color = 'purple'\n",
    "                bins = min(65536, max_pixel - min_pixel + 1)\n",
    "            \n",
    "            # Ensure we have at least 50 bins for good visualization\n",
    "            bins = max(bins, 50)\n",
    "            \n",
    "            # Create histogram\n",
    "            plt.figure(figsize=(10, 6))\n",
    "            n, bins_edges, patches = plt.hist(pixel_array.flatten(), bins=bins, alpha=0.7, edgecolor='black')\n",
    "            \n",
    "            # Apply color to the histogram bars\n",
    "            for patch in patches:\n",
    "                patch.set_facecolor(color)\n",
    "            \n",
    "            plt.title(f'Pixel Value Distribution - {os.path.basename(dicom_file)}')\n",
    "            plt.xlabel('Pixel Value')\n",
    "            plt.ylabel('Frequency')\n",
    "            plt.grid(True, alpha=0.3)\n",
    "            \n",
    "            # Add comprehensive information text box with proper newlines\n",
    "            info_text = f'Bits Allocated: {bits_allocated}\\nBits Used: {bits_used}\\n{monochrome_type}\\nMin Pixel Value: {min_pixel}\\nMax Pixel Value: {max_pixel}'\n",
    "            plt.text(0.02, 0.98, info_text, \n",
    "                    transform=plt.gca().transAxes, verticalalignment='top',\n",
    "                    bbox=dict(boxstyle='round', facecolor='wheat', alpha=0.8),\n",
    "                    fontsize=10)\n",
    "            \n",
    "            # Save histogram\n",
    "            base_name = os.path.splitext(os.path.basename(dicom_file))[0]\n",
    "            output_path = os.path.join(HISTOGRAM_PATH, f\"{base_name}_histogram.png\")\n",
    "            plt.savefig(output_path, dpi=300, bbox_inches='tight')\n",
    "            plt.close()\n",
    "            \n",
    "        except Exception as e:\n",
    "            print(f\"Error processing {dicom_file}: {str(e)}\")\n",
    "            continue\n",
    "\n",
    "# Execute the function\n",
    "create_dicom_histograms()\n"
   ]
  },
  {
   "cell_type": "markdown",
   "metadata": {},
   "source": [
    "### Global histogram"
   ]
  }
 ],
 "metadata": {
  "kernelspec": {
   "display_name": ".venv",
   "language": "python",
   "name": "python3"
  },
  "language_info": {
   "codemirror_mode": {
    "name": "ipython",
    "version": 3
   },
   "file_extension": ".py",
   "mimetype": "text/x-python",
   "name": "python",
   "nbconvert_exporter": "python",
   "pygments_lexer": "ipython3",
   "version": "3.12.10"
  }
 },
 "nbformat": 4,
 "nbformat_minor": 2
}
