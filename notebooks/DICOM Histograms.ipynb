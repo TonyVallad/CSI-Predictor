{
 "cells": [
  {
   "cell_type": "markdown",
   "metadata": {},
   "source": [
    "# DICOM Histograms"
   ]
  },
  {
   "cell_type": "markdown",
   "metadata": {},
   "source": [
    "## Global variables & Immports"
   ]
  },
  {
   "cell_type": "code",
   "execution_count": null,
   "metadata": {},
   "outputs": [],
   "source": [
    "# Path to DICOM directory\n",
    "DICOM_PATH = /home/pyuser/data/Paradise_DICOMs\n",
    "\n",
    "# Path to Histogram directory\n",
    "HISTOGRAM_PATH = /home/pyuser/data/Paradise_Histograms\n",
    "\n",
    "import os\n",
    "import pydicom\n",
    "import matplotlib.pyplot as plt\n",
    "import numpy as np\n",
    "from pathlib import Path"
   ]
  },
  {
   "cell_type": "markdown",
   "metadata": {},
   "source": [
    "## Graphs creation"
   ]
  },
  {
   "cell_type": "markdown",
   "metadata": {},
   "source": [
    "### Per DICOM file"
   ]
  },
  {
   "cell_type": "code",
   "execution_count": null,
   "metadata": {},
   "outputs": [],
   "source": [
    "def create_dicom_histograms():\n",
    "    \"\"\"\n",
    "    Create histograms for all DICOM files in the DICOM_PATH directory\n",
    "    and save them to the HISTOGRAM_PATH directory.\n",
    "    \"\"\"\n",
    "    # Create histogram directory if it doesn't exist\n",
    "    Path(HISTOGRAM_PATH).mkdir(parents=True, exist_ok=True)\n",
    "    \n",
    "    # Get all DICOM files\n",
    "    dicom_files = []\n",
    "    for root, dirs, files in os.walk(DICOM_PATH):\n",
    "        for file in files:\n",
    "            if file.lower().endswith(('.dcm', '.dicom')):\n",
    "                dicom_files.append(os.path.join(root, file))\n",
    "    \n",
    "    print(f\"Found {len(dicom_files)} DICOM files\")\n",
    "    \n",
    "    for dicom_file in dicom_files:\n",
    "        try:\n",
    "            # Read DICOM file\n",
    "            ds = pydicom.dcmread(dicom_file)\n",
    "            \n",
    "            # Get pixel data\n",
    "            pixel_array = ds.pixel_array\n",
    "            \n",
    "            # Determine bit depth and color\n",
    "            bits_allocated = getattr(ds, 'BitsAllocated', 8)\n",
    "            if bits_allocated <= 8:\n",
    "                color = 'blue'\n",
    "                bins = 256\n",
    "            elif bits_allocated <= 12:\n",
    "                color = 'green'\n",
    "                bins = 4096\n",
    "            elif bits_allocated <= 14:\n",
    "                color = 'red'\n",
    "                bins = 16384\n",
    "            else:\n",
    "                color = 'purple'\n",
    "                bins = 65536\n",
    "            \n",
    "            # Create histogram\n",
    "            plt.figure(figsize=(10, 6))\n",
    "            plt.hist(pixel_array.flatten(), bins=bins, color=color, alpha=0.7, edgecolor='black')\n",
    "            plt.title(f'Pixel Value Distribution - {os.path.basename(dicom_file)}')\n",
    "            plt.xlabel('Pixel Value')\n",
    "            plt.ylabel('Frequency')\n",
    "            plt.grid(True, alpha=0.3)\n",
    "            \n",
    "            # Add bit depth information\n",
    "            plt.text(0.02, 0.98, f'Bits Allocated: {bits_allocated}', \n",
    "                    transform=plt.gca().transAxes, verticalalignment='top',\n",
    "                    bbox=dict(boxstyle='round', facecolor='wheat', alpha=0.8))\n",
    "            \n",
    "            # Save histogram\n",
    "            base_name = os.path.splitext(os.path.basename(dicom_file))[0]\n",
    "            output_path = os.path.join(HISTOGRAM_PATH, f\"{base_name}_histogram.png\")\n",
    "            plt.savefig(output_path, dpi=300, bbox_inches='tight')\n",
    "            plt.close()\n",
    "            \n",
    "            print(f\"Created histogram for: {os.path.basename(dicom_file)}\")\n",
    "            \n",
    "        except Exception as e:\n",
    "            print(f\"Error processing {dicom_file}: {str(e)}\")\n",
    "            continue\n",
    "\n",
    "# Execute the function\n",
    "create_dicom_histograms()\n"
   ]
  },
  {
   "cell_type": "markdown",
   "metadata": {},
   "source": [
    "### Global histogram"
   ]
  }
 ],
 "metadata": {
  "kernelspec": {
   "display_name": ".venv",
   "language": "python",
   "name": "python3"
  },
  "language_info": {
   "codemirror_mode": {
    "name": "ipython",
    "version": 3
   },
   "file_extension": ".py",
   "mimetype": "text/x-python",
   "name": "python",
   "nbconvert_exporter": "python",
   "pygments_lexer": "ipython3",
   "version": "3.12.10"
  }
 },
 "nbformat": 4,
 "nbformat_minor": 2
}
