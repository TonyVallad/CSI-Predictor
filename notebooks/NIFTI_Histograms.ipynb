{
  "cells": [
    {
      "cell_type": "markdown",
      "metadata": {},
      "source": [
        "# NIFTI Histograms"
      ]
    },
    {
      "cell_type": "markdown",
      "metadata": {},
      "source": [
        "## Global variables & Imports"
      ]
    },
    {
      "cell_type": "code",
      "execution_count": null,
      "metadata": {},
      "outputs": [],
      "source": [
        "# Path to NIFTI directory\n",
        "NIFTI_PATH = \"/home/pyuser/data/Paradise_NIFTIs\"\n",
        "# NIFTI_PATH = \"/home/pyuser/data/Paradise_Test_NIFTIs\"\n",
        "\n",
        "# Path to Histogram directory\n",
        "HISTOGRAM_PATH = \"/home/pyuser/data/Paradise_NIFTI_Histograms\"\n",
        "\n",
        "# Import functions from the functions module\n",
        "from functions import (\n",
        "    analyze_bits_used_distribution,\n",
        "    create_nifti_histograms,\n",
        "    create_histogram_grid,\n",
        "    create_global_nifti_histogram\n",
        ")"
      ]
    },
    {
      "cell_type": "markdown",
      "metadata": {},
      "source": [
        "## Graphs creation"
      ]
    },
    {
      "cell_type": "markdown",
      "metadata": {},
      "source": [
        "### Bits Used Distribution"
      ]
    },
    {
      "cell_type": "code",
      "execution_count": null,
      "metadata": {},
      "outputs": [],
      "source": [
        "# Execute the bits used distribution analysis\n",
        "file_info, bits_distribution = analyze_bits_used_distribution(NIFTI_PATH, HISTOGRAM_PATH)"
      ]
    },
    {
      "cell_type": "markdown",
      "metadata": {},
      "source": [
        "### Histogram per NIFTI file"
      ]
    },
    {
      "cell_type": "code",
      "execution_count": null,
      "metadata": {},
      "outputs": [],
      "source": [
        "# Create individual histograms for each NIFTI file\n",
        "# Option 1: Auto-calculate bins (recommended for NIFTI files)\n",
        "# create_nifti_histograms(NIFTI_PATH, HISTOGRAM_PATH)\n",
        "\n",
        "# Option 2: Use exactly 256 bins for all histograms\n",
        "# create_nifti_histograms(NIFTI_PATH, HISTOGRAM_PATH, bins=256)\n",
        "\n",
        "# Option 3: Use exactly 512 bins for all histograms  \n",
        "create_nifti_histograms(NIFTI_PATH, HISTOGRAM_PATH, bins=512)"
      ]
    },
    {
      "cell_type": "markdown",
      "metadata": {},
      "source": [
        "## Grid view"
      ]
    },
    {
      "cell_type": "code",
      "execution_count": null,
      "metadata": {},
      "outputs": [],
      "source": [
        "# Create grid layout of histogram images\n",
        "grid_files = create_histogram_grid(HISTOGRAM_PATH, rows=10, cols=14)"
      ]
    },
    {
      "cell_type": "markdown",
      "metadata": {},
      "source": [
        "### Global histogram"
      ]
    },
    {
      "cell_type": "code",
      "execution_count": null,
      "metadata": {},
      "outputs": [],
      "source": [
        "# Create a single global histogram combining all NIFTI files\n",
        "create_global_nifti_histogram(NIFTI_PATH, HISTOGRAM_PATH, bins=1024)"
      ]
    }
  ],
  "metadata": {
    "kernelspec": {
      "display_name": ".venv",
      "language": "python",
      "name": "python3"
    },
    "language_info": {
      "codemirror_mode": {
        "name": "ipython",
        "version": 3
      },
      "file_extension": ".py",
      "mimetype": "text/x-python",
      "name": "python",
      "nbconvert_exporter": "python",
      "pygments_lexer": "ipython3",
      "version": "3.12.10"
    }
  },
  "nbformat": 4,
  "nbformat_minor": 2
}